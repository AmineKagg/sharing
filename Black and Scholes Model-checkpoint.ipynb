{
 "cells": [
  {
   "cell_type": "code",
   "execution_count": 9,
   "metadata": {},
   "outputs": [],
   "source": [
    "import math\n",
    "from scipy.stats import norm"
   ]
  },
  {
   "cell_type": "code",
   "execution_count": 2,
   "metadata": {},
   "outputs": [],
   "source": []
  },
  {
   "cell_type": "markdown",
   "metadata": {},
   "source": [
    "N(x) = \\frac{1}{sqrt(2*\\pi)} \\int^x_{-\\infty} e^{-\\frac{1}{2}s^2} ds"
   ]
  },
  {
   "cell_type": "code",
   "execution_count": 11,
   "metadata": {},
   "outputs": [],
   "source": [
    "def d1(S, K, r, sigma, T):\n",
    "    \"\"\"\n",
    "    d_j = \\frac{log(\\frac{S}{K})+(r+(-1)^{j-1} \\frac{1}{2}v^2)T}{v sqrt(T)}\n",
    "    \"\"\"\n",
    "    return (math.log(S/K) + (r + 0.5*sigma*sigma)*T)/(sigma*(T**0.5))"
   ]
  },
  {
   "cell_type": "code",
   "execution_count": 6,
   "metadata": {},
   "outputs": [],
   "source": [
    "def vanilla_call_price(S, K, r, sigma, T):\n",
    "    \"\"\"\n",
    "    Price of a European put option struck at K, with\n",
    "    spot S, constant rate r, constant vol v (over the\n",
    "    life of the option) and time to maturity T\n",
    "    \"\"\"\n",
    "    d1 = d1(S, K, r, sigma, T)\n",
    "    d2 = d1 - sigma*math.sqrt(T)\n",
    "    \n",
    "    Nd1 = norm.cdf(d1)\n",
    "    Nd2 = norm.cdf(d2)\n",
    "    \n",
    "    price = \n",
    "    \n",
    "    return -S * norm_cdf(-d_j(1, S, K, r, v, T)) + \\\n",
    "        K*exp(-r*T) * norm_cdf(-d_j(2, S, K, r, v, T))"
   ]
  },
  {
   "cell_type": "code",
   "execution_count": null,
   "metadata": {},
   "outputs": [],
   "source": []
  }
 ],
 "metadata": {
  "kernelspec": {
   "display_name": "Python 3",
   "language": "python",
   "name": "python3"
  },
  "language_info": {
   "codemirror_mode": {
    "name": "ipython",
    "version": 3
   },
   "file_extension": ".py",
   "mimetype": "text/x-python",
   "name": "python",
   "nbconvert_exporter": "python",
   "pygments_lexer": "ipython3",
   "version": "3.6.4"
  }
 },
 "nbformat": 4,
 "nbformat_minor": 2
}
