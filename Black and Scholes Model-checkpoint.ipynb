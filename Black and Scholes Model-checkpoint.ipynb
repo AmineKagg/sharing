{
 "cells": [
  {
   "cell_type": "code",
   "execution_count": 17,
   "metadata": {},
   "outputs": [],
   "source": [
    "import math\n",
    "from scipy.stats import norm"
   ]
  },
  {
   "cell_type": "markdown",
   "metadata": {},
   "source": [
    "#### Formule de Black & Scholes"
   ]
  },
  {
   "cell_type": "markdown",
   "metadata": {},
   "source": [
    "$$ C(S,t)=SN(d_1) - Ke^{-rT}N(d_2) $$"
   ]
  },
  {
   "cell_type": "markdown",
   "metadata": {},
   "source": [
    "On rappelle que la fonction de répartition (cdf) d'une loi normale standard est $$ N(x) = \\frac{1}{\\sqrt{2\\pi}} \\int^x_{-\\infty} e^{-\\frac{1}{2}s^2} ds $$\n",
    "\n",
    "On utilisera le module 'norm' de la bibliothèque 'scipy.stats' pour le calcul de cdf."
   ]
  },
  {
   "cell_type": "markdown",
   "metadata": {},
   "source": [
    "Rappel des valeurs de $d_1$ et $d_2$\n",
    "  $$  d_1 = \\frac{log(\\frac{S}{K})+(r+ \\frac{\\sigma^2}{2})T}{\\sigma \\sqrt(T)} $$\n",
    "  $$ d_2 = d_1 - \\sigma \\sqrt{T} $$\n"
   ]
  },
  {
   "cell_type": "code",
   "execution_count": 18,
   "metadata": {},
   "outputs": [],
   "source": [
    "def d1(S, K, r, sigma, T):\n",
    "    \n",
    "    return (math.log(S/K) + (r + 0.5*sigma*sigma)*T)/(sigma*(T**0.5))"
   ]
  },
  {
   "cell_type": "code",
   "execution_count": 25,
   "metadata": {},
   "outputs": [],
   "source": [
    "#T should be in years\n",
    "def call_price(S, K, r, sigma, T):\n",
    "\n",
    "    d_1 = d1(S, K, r, sigma, T)\n",
    "    d_2 = d_1 - sigma*math.sqrt(T)\n",
    "    \n",
    "    Nd1 = norm.cdf(d_1)\n",
    "    Nd2 = norm.cdf(d_2)\n",
    "    \n",
    "    price = S*Nd1 - K*math.exp(-r*T)*Nd2\n",
    "    \n",
    "    return price"
   ]
  },
  {
   "cell_type": "code",
   "execution_count": 30,
   "metadata": {},
   "outputs": [],
   "source": [
    "#T should be in years\n",
    "def put_price(S, K, r, sigma, T):\n",
    "\n",
    "    d_1 = d1(S, K, r, sigma, T)\n",
    "    d_2 = d_1 - sigma*math.sqrt(T)\n",
    "    \n",
    "    Nd1 = norm.cdf(d_1)\n",
    "    Nd2 = norm.cdf(d_2)\n",
    "    \n",
    "    price = K*math.exp(-r*T) - S + S*Nd1 - K*math.exp(-r*T)*Nd2\n",
    "    \n",
    "    return price"
   ]
  },
  {
   "cell_type": "markdown",
   "metadata": {},
   "source": [
    "#### Application\n",
    "\n",
    "What is the price of a call and a put with the inputs below\n",
    "$ S=300\\$, K=250\\$, r=3\\%, \\sigma=15\\%, T=1 $"
   ]
  },
  {
   "cell_type": "code",
   "execution_count": 34,
   "metadata": {},
   "outputs": [
    {
     "name": "stdout",
     "output_type": "stream",
     "text": [
      "Call of the Call = 58.81976813699322  $\n",
      "Call of the Put = 1.4311515241202528 $\n"
     ]
    }
   ],
   "source": [
    "call_price_test = call_price(300,250,0.03,0.15,1)\n",
    "put_price_test = put_price(300,250,0.03,0.15,1)\n",
    "print('Call of the Call =', call_price_test, ' $')\n",
    "print('Call of the Put =', put_price_test, '$')"
   ]
  },
  {
   "cell_type": "code",
   "execution_count": null,
   "metadata": {},
   "outputs": [],
   "source": []
  }
 ],
 "metadata": {
  "kernelspec": {
   "display_name": "Python 3",
   "language": "python",
   "name": "python3"
  },
  "language_info": {
   "codemirror_mode": {
    "name": "ipython",
    "version": 3
   },
   "file_extension": ".py",
   "mimetype": "text/x-python",
   "name": "python",
   "nbconvert_exporter": "python",
   "pygments_lexer": "ipython3",
   "version": "3.6.4"
  }
 },
 "nbformat": 4,
 "nbformat_minor": 2
}
