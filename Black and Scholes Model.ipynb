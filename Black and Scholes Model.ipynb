{
 "cells": [
  {
   "cell_type": "code",
   "execution_count": 1,
   "metadata": {},
   "outputs": [],
   "source": [
    "import math\n",
    "import time\n",
    "from scipy.stats import norm"
   ]
  },
  {
   "cell_type": "markdown",
   "metadata": {},
   "source": [
    "#### Formule de Black & Scholes"
   ]
  },
  {
   "cell_type": "markdown",
   "metadata": {},
   "source": [
    "$$ C(S,t)=SN(d_1) - Ke^{-rT}N(d_2) $$"
   ]
  },
  {
   "cell_type": "markdown",
   "metadata": {},
   "source": [
    "On rappelle que la fonction de répartition (cdf) d'une loi normale standard est $$ N(x) = \\frac{1}{\\sqrt{2\\pi}} \\int^x_{-\\infty} e^{-\\frac{1}{2}s^2} ds $$\n",
    "\n",
    "On utilisera le module 'norm' de la bibliothèque 'scipy.stats' pour le calcul de cdf."
   ]
  },
  {
   "cell_type": "markdown",
   "metadata": {},
   "source": [
    "Rappel des valeurs de $d_1$ et $d_2$\n",
    "  $$  d_1 = \\frac{log(\\frac{S}{K})+(r+ \\frac{\\sigma^2}{2})T}{\\sigma \\sqrt(T)} $$\n",
    "  $$ d_2 = d_1 - \\sigma \\sqrt{T} $$\n"
   ]
  },
  {
   "cell_type": "code",
   "execution_count": 2,
   "metadata": {},
   "outputs": [],
   "source": [
    "def d1(S, K, r, sigma, T):\n",
    "    \n",
    "    return (math.log(S/K) + (r + 0.5*sigma*sigma)*T)/(sigma*(T**0.5))"
   ]
  },
  {
   "cell_type": "code",
   "execution_count": 3,
   "metadata": {},
   "outputs": [],
   "source": [
    "#T should be in years\n",
    "def call_price(S, K, r, sigma, T):\n",
    "\n",
    "    d_1 = d1(S, K, r, sigma, T)\n",
    "    d_2 = d_1 - sigma*math.sqrt(T)\n",
    "    \n",
    "    Nd1 = norm.cdf(d_1)\n",
    "    Nd2 = norm.cdf(d_2)\n",
    "    \n",
    "    price = S*Nd1 - K*math.exp(-r*T)*Nd2\n",
    "    \n",
    "    return price"
   ]
  },
  {
   "cell_type": "code",
   "execution_count": 4,
   "metadata": {},
   "outputs": [],
   "source": [
    "#T should be in years\n",
    "def put_price(S, K, r, sigma, T):\n",
    "\n",
    "    d_1 = d1(S, K, r, sigma, T)\n",
    "    d_2 = d_1 - sigma*math.sqrt(T)\n",
    "    \n",
    "    Nd1 = norm.cdf(d_1)\n",
    "    Nd2 = norm.cdf(d_2)\n",
    "    \n",
    "    price = K*math.exp(-r*T) - S + S*Nd1 - K*math.exp(-r*T)*Nd2\n",
    "    \n",
    "    return price"
   ]
  },
  {
   "cell_type": "markdown",
   "metadata": {},
   "source": [
    "#### Application\n",
    "\n",
    "What is the price of a call and a put with the inputs below\n",
    "$ S=300\\$, K=250\\$, r=3\\%, \\sigma=15\\%, T=1 $"
   ]
  },
  {
   "cell_type": "code",
   "execution_count": 5,
   "metadata": {},
   "outputs": [
    {
     "name": "stdout",
     "output_type": "stream",
     "text": [
      "Call of the Call = 58.81976813699322  $\n",
      "Call of the Put = 1.4311515241202528 $\n"
     ]
    }
   ],
   "source": [
    "call_price_test = call_price(300,250,0.03,0.15,1)\n",
    "put_price_test = put_price(300,250,0.03,0.15,1)\n",
    "print('Call of the Call =', call_price_test, ' $')\n",
    "print('Call of the Put =', put_price_test, '$')"
   ]
  },
  {
   "cell_type": "markdown",
   "metadata": {},
   "source": [
    "### Compute the time execution for $n=10000$  ATM calls"
   ]
  },
  {
   "cell_type": "code",
   "execution_count": 26,
   "metadata": {},
   "outputs": [
    {
     "name": "stdout",
     "output_type": "stream",
     "text": [
      "For  10000  ATM calls the time execution is  --- 1692.9426193237305 Milliseconds ---\n"
     ]
    }
   ],
   "source": [
    "n = 10000\n",
    "r, sigma, T= 0.03, 0.15, 1\n",
    "#iteration = 10\n",
    "\n",
    "#for j in range(iteration):\n",
    "start_time = time.time()\n",
    "for i in range(n):\n",
    "    call_price_test = call_price(100+i,100+i,r,sigma,T)\n",
    "\n",
    "end_time = time.time()\n",
    "    \n",
    "moyenne = end_time - start_time\n",
    "    \n",
    "moyenne /=iteration\n",
    "print(\"For \", n, \" ATM calls the time execution is \", \"--- %s Milliseconds ---\" % ((end_time - start_time)*1000))"
   ]
  },
  {
   "cell_type": "markdown",
   "metadata": {},
   "source": [
    "### Conclusion on time execution"
   ]
  },
  {
   "cell_type": "markdown",
   "metadata": {},
   "source": [
    "For $n=10000$ ATM Calls computation, we have between $1,500$ milliseconds and $2,000$ milliseconds execution time."
   ]
  },
  {
   "cell_type": "code",
   "execution_count": null,
   "metadata": {},
   "outputs": [],
   "source": []
  }
 ],
 "metadata": {
  "kernelspec": {
   "display_name": "Python 3",
   "language": "python",
   "name": "python3"
  },
  "language_info": {
   "codemirror_mode": {
    "name": "ipython",
    "version": 3
   },
   "file_extension": ".py",
   "mimetype": "text/x-python",
   "name": "python",
   "nbconvert_exporter": "python",
   "pygments_lexer": "ipython3",
   "version": "3.6.4"
  }
 },
 "nbformat": 4,
 "nbformat_minor": 2
}
